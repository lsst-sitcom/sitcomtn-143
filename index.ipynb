{
 "cells": [
  {
   "cell_type": "markdown",
   "id": "2158adab-9adf-4587-b2c2-3421c0ff3467",
   "metadata": {},
   "source": [
    "# SITCOM-1120: Brake analysis"
   ]
  },
  {
   "cell_type": "markdown",
   "id": "b78af94d-d6aa-490f-811e-d1d8f86ea953",
   "metadata": {},
   "source": [
    "# Imports"
   ]
  },
  {
   "cell_type": "code",
   "execution_count": 1,
   "id": "479e57a1-08a7-4ca1-a322-1769f1a5468f",
   "metadata": {
    "execution": {
     "iopub.execute_input": "2024-08-02T02:56:47.862855Z",
     "iopub.status.busy": "2024-08-02T02:56:47.862692Z",
     "iopub.status.idle": "2024-08-02T02:56:53.962863Z",
     "shell.execute_reply": "2024-08-02T02:56:53.962376Z",
     "shell.execute_reply.started": "2024-08-02T02:56:47.862843Z"
    }
   },
   "outputs": [],
   "source": [
    "import sys, time, os, asyncio, glob\n",
    "import numpy as np\n",
    "import pandas as pd\n",
    "import matplotlib.pyplot as plt\n",
    "import pickle as pkl\n",
    "from datetime import datetime\n",
    "from astropy.time import Time, TimeDelta\n",
    "\n",
    "from lsst_efd_client import EfdClient\n",
    "from lsst.summit.utils.efdUtils import makeEfdClient, getEfdData\n",
    "from scipy.interpolate import UnivariateSpline\n",
    "\n",
    "\n",
    "\n"
   ]
  },
  {
   "cell_type": "code",
   "execution_count": null,
   "id": "b00c31bb-4e80-441a-abc9-d7a7f4076a0b",
   "metadata": {},
   "outputs": [],
   "source": [
    "client = EfdClient(\"usdf_efd\")"
   ]
  }
 ],
 "metadata": {
  "kernelspec": {
   "display_name": "Python 3 (ipykernel)",
   "language": "python",
   "name": "python3"
  },
  "language_info": {
   "codemirror_mode": {
    "name": "ipython",
    "version": 3
   },
   "file_extension": ".py",
   "mimetype": "text/x-python",
   "name": "python",
   "nbconvert_exporter": "python",
   "pygments_lexer": "ipython3",
   "version": "3.8.13"
  }
 },
 "nbformat": 4,
 "nbformat_minor": 5
}
